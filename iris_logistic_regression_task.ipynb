{
 "cells": [
  {
   "cell_type": "code",
   "execution_count": 1,
   "id": "8af3b23d-c04d-42b2-bda3-77de88941800",
   "metadata": {},
   "outputs": [],
   "source": [
    "# import the relevant packages \n",
    "\n",
    "import numpy as np\n",
    "import pandas as pd\n",
    "from sklearn.preprocessing import OneHotEncoder \n",
    "from sklearn.model_selection import train_test_split \n",
    "from sklearn.linear_model import LogisticRegression \n",
    "from sklearn import metrics \n",
    "from sklearn import preprocessing\n",
    "from sklearn.metrics import confusion_matrix \n",
    "from sklearn.metrics import precision_score, recall_score \n",
    "\n"
   ]
  },
  {
   "cell_type": "code",
   "execution_count": 2,
   "id": "ed08c255-0435-4f3f-b90e-46887fa71171",
   "metadata": {},
   "outputs": [],
   "source": [
    "# read the Iris dataset\n",
    "\n",
    "iris = pd.read_csv('Iris.csv')"
   ]
  },
  {
   "cell_type": "code",
   "execution_count": 3,
   "id": "2ef973de-05c6-42aa-9400-16cf9ff150f8",
   "metadata": {},
   "outputs": [],
   "source": [
    "# set x to the independent variables in the form of an array\n",
    "\n",
    "\n",
    "x = iris.iloc[:, 1:5].to_numpy()\n"
   ]
  },
  {
   "cell_type": "code",
   "execution_count": 4,
   "id": "39a88dff-ab0a-4c82-af9c-851b79c71b83",
   "metadata": {},
   "outputs": [],
   "source": [
    "# set y to the dependent variable, which will be the species column encoded into a binary variable\n",
    "# which says whether or not the item is 'Setosa'\n",
    "\n",
    "species_encoded = pd.get_dummies(iris['Species'])\n",
    "y = species_encoded['Iris-setosa'].to_numpy()\n",
    "\n"
   ]
  },
  {
   "cell_type": "code",
   "execution_count": 5,
   "id": "a7fa01c9-10a9-470b-a9a6-c6bee155c91d",
   "metadata": {},
   "outputs": [],
   "source": [
    "# Split the data into a training and test set \n",
    "\n",
    "x_train, x_test, y_train, y_test = train_test_split(x, y, test_size = 0.3, train_size = 0.7, random_state = 23)\n",
    "\n",
    "# scale the data\n",
    "\n",
    "scaler = preprocessing.StandardScaler().fit(x_train)\n",
    "x_train = scaler.transform(x_train)\n",
    "x_test = scaler.transform(x_test)"
   ]
  },
  {
   "cell_type": "code",
   "execution_count": 6,
   "id": "e1f37292-d608-44ae-87b1-1ff7f0e0cc56",
   "metadata": {},
   "outputs": [],
   "source": [
    "# fit a logistic regression model to the data and make predictions on the test set \n",
    "\n",
    "logreg = LogisticRegression().fit(x_train, y_train) \n",
    "\n",
    "y_pred = logreg.predict(x_test)\n",
    "\n",
    "\n"
   ]
  },
  {
   "cell_type": "code",
   "execution_count": 10,
   "id": "174b0a0d-c1ff-4486-8997-d253c4cec42a",
   "metadata": {},
   "outputs": [
    {
     "data": {
      "text/html": [
       "<div>\n",
       "<style scoped>\n",
       "    .dataframe tbody tr th:only-of-type {\n",
       "        vertical-align: middle;\n",
       "    }\n",
       "\n",
       "    .dataframe tbody tr th {\n",
       "        vertical-align: top;\n",
       "    }\n",
       "\n",
       "    .dataframe thead th {\n",
       "        text-align: right;\n",
       "    }\n",
       "</style>\n",
       "<table border=\"1\" class=\"dataframe\">\n",
       "  <thead>\n",
       "    <tr style=\"text-align: right;\">\n",
       "      <th></th>\n",
       "      <th>Predicted Setosa</th>\n",
       "      <th>Predicted Not Setosa</th>\n",
       "    </tr>\n",
       "  </thead>\n",
       "  <tbody>\n",
       "    <tr>\n",
       "      <th>True Setosa</th>\n",
       "      <td>27</td>\n",
       "      <td>0</td>\n",
       "    </tr>\n",
       "    <tr>\n",
       "      <th>True Not Setosa</th>\n",
       "      <td>0</td>\n",
       "      <td>18</td>\n",
       "    </tr>\n",
       "  </tbody>\n",
       "</table>\n",
       "</div>"
      ],
      "text/plain": [
       "                 Predicted Setosa  Predicted Not Setosa\n",
       "True Setosa                    27                     0\n",
       "True Not Setosa                 0                    18"
      ]
     },
     "execution_count": 10,
     "metadata": {},
     "output_type": "execute_result"
    }
   ],
   "source": [
    "# make a confusion matrix using confusion_matrix \n",
    "\n",
    "c_matr = pd.DataFrame(confusion_matrix(y_test, y_pred))\n",
    "\n",
    "c_matr = c_matr.set_axis(['True Setosa', 'True Not Setosa'], axis = 0)\n",
    "\n",
    "c_matr = c_matr.set_axis(['Predicted Setosa', 'Predicted Not Setosa'], axis = 1)\n",
    "\n",
    "c_matr \n",
    "\n"
   ]
  },
  {
   "cell_type": "code",
   "execution_count": 15,
   "id": "4f9ea40b-d051-4815-9cc2-3df629ba7e2f",
   "metadata": {},
   "outputs": [
    {
     "data": {
      "text/html": [
       "<div>\n",
       "<style scoped>\n",
       "    .dataframe tbody tr th:only-of-type {\n",
       "        vertical-align: middle;\n",
       "    }\n",
       "\n",
       "    .dataframe tbody tr th {\n",
       "        vertical-align: top;\n",
       "    }\n",
       "\n",
       "    .dataframe thead th {\n",
       "        text-align: right;\n",
       "    }\n",
       "</style>\n",
       "<table border=\"1\" class=\"dataframe\">\n",
       "  <thead>\n",
       "    <tr style=\"text-align: right;\">\n",
       "      <th></th>\n",
       "      <th>0</th>\n",
       "      <th>1</th>\n",
       "    </tr>\n",
       "  </thead>\n",
       "  <tbody>\n",
       "    <tr>\n",
       "      <th>0</th>\n",
       "      <td>27</td>\n",
       "      <td>0</td>\n",
       "    </tr>\n",
       "    <tr>\n",
       "      <th>1</th>\n",
       "      <td>0</td>\n",
       "      <td>18</td>\n",
       "    </tr>\n",
       "  </tbody>\n",
       "</table>\n",
       "</div>"
      ],
      "text/plain": [
       "    0   1\n",
       "0  27   0\n",
       "1   0  18"
      ]
     },
     "execution_count": 15,
     "metadata": {},
     "output_type": "execute_result"
    }
   ],
   "source": [
    "pd.DataFrame(confusion_matrix(y_test, y_pred))"
   ]
  },
  {
   "cell_type": "markdown",
   "id": "714c0f41-6a7c-4d45-97e6-20d76b0fe5e2",
   "metadata": {},
   "source": [
    "Predict whether the model is likely to have higher precision, higher recall, or\n",
    "similar precision and recall\n",
    "\n",
    "\n",
    "\n",
    "Precision - all of the guesses the model made were correct, so it has perfect precision.\n",
    "\n",
    "Recall - all of the setosas were correctly predicted as setosas, so it has perfect recall as well\n",
    "\n",
    "\n",
    "Conclusion - the model has perfect precision and recall \n"
   ]
  },
  {
   "cell_type": "code",
   "execution_count": 13,
   "id": "3815ca12-2208-4c91-b4a2-0503abfd7961",
   "metadata": {},
   "outputs": [],
   "source": [
    "# define functions for the evaluation metrics \n",
    "\n",
    "def acc_score(x, y):\n",
    "    confm = confusion_matrix(x, y)\n",
    "    z = (confm[0,0] + confm[1,1])/(confm[0,0] + confm[1,1] + confm[0,1] + confm[1,0])\n",
    "    return z\n",
    "\n",
    "\n",
    "def recall_score(x, y):\n",
    "    confm = confusion_matrix(x, y)\n",
    "    z = (confm[0,0] / (confm[0,0] + confm[1,0]))\n",
    "    return z\n",
    "\n",
    "def _precscore(x, y):\n",
    "    confm = confusion_matrix(x, y)\n",
    "    z = (confm[0,0] / (confm[0,0] + confm[0,1]))\n",
    "    return z\n"
   ]
  },
  {
   "cell_type": "code",
   "execution_count": 14,
   "id": "4e2d7af3-dee9-4341-b5ee-a60570d11085",
   "metadata": {},
   "outputs": [
    {
     "name": "stdout",
     "output_type": "stream",
     "text": [
      "Accuracy: 1.0 \n",
      "Precision: 1.0 \n",
      "Recall: 1.0 \n",
      "\n"
     ]
    }
   ],
   "source": [
    "# calculate the accuracy, precision, and recall using the functions defined above\n",
    "\n",
    "acc = acc_score(y_test, y_pred)\n",
    "\n",
    "prec = precision_score(y_test, y_pred)\n",
    "\n",
    "rec = recall_score(y_test, y_pred)\n",
    "\n",
    "print(f'Accuracy: {acc} \\nPrecision: {prec} \\nRecall: {rec} \\n')"
   ]
  },
  {
   "cell_type": "markdown",
   "id": "0528640a-b4df-4fc4-b200-a94de9c4796a",
   "metadata": {},
   "source": [
    "Were my predictions right? Yes - my predictions were right, the accuracy and recall are both perfect for the model\n"
   ]
  },
  {
   "cell_type": "code",
   "execution_count": null,
   "id": "0d2c8281-e20b-4208-8228-eed7413abb38",
   "metadata": {},
   "outputs": [],
   "source": []
  }
 ],
 "metadata": {
  "kernelspec": {
   "display_name": "Python 3 (ipykernel)",
   "language": "python",
   "name": "python3"
  },
  "language_info": {
   "codemirror_mode": {
    "name": "ipython",
    "version": 3
   },
   "file_extension": ".py",
   "mimetype": "text/x-python",
   "name": "python",
   "nbconvert_exporter": "python",
   "pygments_lexer": "ipython3",
   "version": "3.8.18"
  }
 },
 "nbformat": 4,
 "nbformat_minor": 5
}
